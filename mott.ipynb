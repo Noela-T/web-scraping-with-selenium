{
 "cells": [
  {
   "cell_type": "code",
   "execution_count": 33,
   "metadata": {},
   "outputs": [],
   "source": [
    "# import libraries\n",
    "from selenium import webdriver\n",
    "from selenium.webdriver.chrome.service import Service\n",
    "from selenium.webdriver.common.by import By\n",
    "from webdriver_manager.chrome import ChromeDriverManager\n",
    "from selenium.webdriver.common.keys import Keys\n",
    "from selenium.webdriver.common.action_chains import ActionChains\n",
    "from selenium.webdriver.support.ui import WebDriverWait\n",
    "from selenium.webdriver.support import expected_conditions as EC\n",
    "import json\n",
    "import time\n",
    "\n",
    "def safe_find_element_text(element, by, value, default=\"\"):\n",
    "    \"\"\"\n",
    "        Avoids NoSuchElement Exception from selenium\n",
    "    \"\"\"\n",
    "    try:\n",
    "        return element.find_element(by, value).text\n",
    "    except Exception:\n",
    "        return default\n",
    "\n",
    "def safe_find_element_attribute(element, by, value, attribute, default=\"\"):\n",
    "    \"\"\"\n",
    "        Avoids NoSuchElement Exception from selenium\n",
    "    \"\"\"\n",
    "    try:\n",
    "        return element.find_element(by, value).get_attribute(attribute)\n",
    "    except Exception:\n",
    "        return default\n",
    "    \n",
    "all_pages = []    "
   ]
  },
  {
   "cell_type": "code",
   "execution_count": 34,
   "metadata": {},
   "outputs": [],
   "source": [
    "mdriver = webdriver.Chrome(service=Service(ChromeDriverManager().install()))"
   ]
  },
  {
   "cell_type": "code",
   "execution_count": 35,
   "metadata": {},
   "outputs": [],
   "source": [
    "country_page = [('Ghana',2),('Kenya',4),('Malawi',3),('Nigeria',2),('Rwanda',2),('Sierra+Leone',2),('South%20Africa',66),('Tanzania',3),('Uganda',2),('Zambia',2)]\n",
    "for country, page_num in country_page:\n",
    "    for num in range(1,page_num):\n",
    "        main_url = \"https://www.mott.org/grants/?location=\" + country + \"&pg=\" + str(num)\n",
    "        # load the web page\n",
    "        mdriver.get(main_url)\n",
    "\n",
    "        # set maximum time to load the web page in seconds\n",
    "        mdriver.implicitly_wait(5)\n",
    "\n",
    "        grants = mdriver.find_element(By.CLASS_NAME, \"archives2-entries\").find_elements(By.CLASS_NAME, \"card6\")\n",
    "\n",
    "        for grant_link in grants:\n",
    "        \n",
    "            link = grant_link.find_element(By.CLASS_NAME, \"card6-link\")\n",
    "            link.click()\n",
    "        \n",
    "            grant_url = mdriver.current_url\n",
    "            mdriver.get(grant_url)\n",
    "            mdriver.implicitly_wait(2)\n",
    "            grant = mdriver.find_element(By.ID, \"content\")\n",
    "\n",
    "            grant_dict = {}\n",
    "            \n",
    "            grant_dict['grantee_name'] = safe_find_element_text(grant, By.CLASS_NAME, \"insert1-subtitle\")\n",
    "            grant_dict['grant_description'] = safe_find_element_text(grant, By.CLASS_NAME, \"insert1-title\")\n",
    "            try:\n",
    "                site_link = grant.find_element(By.CLASS_NAME, \"insert1-lead\")\n",
    "                grant_dict['grantee_website'] = safe_find_element_attribute(site_link, By.TAG_NAME, \"a\", 'href')\n",
    "            except Exception:\n",
    "                grant_dict['grantee_website'] = \"\"\n",
    "            for detail in grant.find_element(By.CLASS_NAME, \"list1-entries\").find_elements(By.TAG_NAME, \"li\"):\n",
    "                grant_dict[safe_find_element_text(detail, By.TAG_NAME, \"strong\")] = safe_find_element_text(detail, By.TAG_NAME, \"span\")\n",
    "            \n",
    "            all_pages.append(grant_dict)\n",
    "\n",
    "            mdriver.back() # to avoid StaleElementReferenceException\n",
    "            mdriver.implicitly_wait(2)\n",
    "\n",
    "        time.sleep(5)"
   ]
  },
  {
   "cell_type": "code",
   "execution_count": 36,
   "metadata": {},
   "outputs": [
    {
     "data": {
      "text/plain": [
       "737"
      ]
     },
     "execution_count": 36,
     "metadata": {},
     "output_type": "execute_result"
    }
   ],
   "source": [
    "len(all_pages)"
   ]
  },
  {
   "cell_type": "code",
   "execution_count": 37,
   "metadata": {},
   "outputs": [],
   "source": [
    "with open(\"mottdata.json\", \"w\") as file:\n",
    "    json.dump(all_pages, file, indent=4)"
   ]
  }
 ],
 "metadata": {
  "kernelspec": {
   "display_name": "scrap",
   "language": "python",
   "name": "python3"
  },
  "language_info": {
   "codemirror_mode": {
    "name": "ipython",
    "version": 3
   },
   "file_extension": ".py",
   "mimetype": "text/x-python",
   "name": "python",
   "nbconvert_exporter": "python",
   "pygments_lexer": "ipython3",
   "version": "3.10.12"
  }
 },
 "nbformat": 4,
 "nbformat_minor": 2
}
