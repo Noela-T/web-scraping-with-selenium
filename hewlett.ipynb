{
 "cells": [
  {
   "cell_type": "code",
   "execution_count": null,
   "metadata": {},
   "outputs": [],
   "source": [
    "# import libraries\n",
    "from selenium import webdriver\n",
    "from selenium.webdriver.chrome.service import Service\n",
    "from selenium.webdriver.common.by import By\n",
    "from webdriver_manager.chrome import ChromeDriverManager\n",
    "from selenium.webdriver.common.keys import Keys\n",
    "from selenium.webdriver.common.action_chains import ActionChains\n",
    "from selenium.webdriver.support.ui import WebDriverWait\n",
    "from selenium.webdriver.support import expected_conditions as EC\n",
    "import json\n",
    "import time\n",
    "\n",
    "def safe_find_element_text(element, by, value, default=\"\"):\n",
    "    try:\n",
    "        return element.find_element(by, value).text\n",
    "    except Exception:\n",
    "        return default\n",
    "\n",
    "def safe_find_element_attribute(element, by, value, attribute, default=\"\"):\n",
    "    try:\n",
    "        return element.find_element(by, value).get_attribute(attribute)\n",
    "    except Exception:\n",
    "        return default\n",
    "\n",
    "driver = webdriver.Chrome(service=Service(ChromeDriverManager().install()))\n",
    "\n",
    "all_pages = []\n",
    "\n",
    "for page_num in range(45,161):\n",
    "    main_url = \"https://hewlett.org/grants/?keyword=Africa&sort=date&current_page=\" + str(page_num)\n",
    "    # load the web page\n",
    "    driver.get(main_url)\n",
    "\n",
    "    # set maximum time to load the web page in seconds\n",
    "    driver.implicitly_wait(5)\n",
    "\n",
    "    grants = driver.find_elements(By.CLASS_NAME, \"grant-listing-callout\")\n",
    "\n",
    "    for grant_link in grants:\n",
    "    \n",
    "        link = grant_link.find_element(By.TAG_NAME, \"a\")\n",
    "        link.click()\n",
    "    \n",
    "        grant_url = driver.current_url\n",
    "        driver.get(grant_url)\n",
    "        driver.implicitly_wait(2)\n",
    "        grant = driver.find_element(By.CLASS_NAME, \"grant\")\n",
    "\n",
    "        grant_dict = {}\n",
    "\n",
    "        grant_dict['grantee_name'] = safe_find_element_text(grant, By.TAG_NAME, \"h1\")\n",
    "        grant_dict['grant_description'] = safe_find_element_text(grant, By.TAG_NAME, \"h3\")\n",
    "        grant_dict['grantee_website'] = safe_find_element_attribute(grant, By.CLASS_NAME, \"aboutgrantee-extra-value\", 'href')\n",
    "        grant_dict['grant_address'] = safe_find_element_text(grant, By.CLASS_NAME, \"aboutgrantee-address\")\n",
    "        detail= grant.find_element(By.CLASS_NAME, \"highlights-list\")\n",
    "        for label, value in zip(detail.find_elements(By.CLASS_NAME, \"highlights-label\"),detail.find_elements(By.CLASS_NAME, \"highlights-value\")):\n",
    "            grant_dict[label.text] = value.text\n",
    "        try:\n",
    "            strategy = grant.find_element(By.CLASS_NAME, \"highlights-strategies\")\n",
    "            strategies = []\n",
    "            for value in strategy.find_elements(By.CLASS_NAME, \"highlight-strategy\"):\n",
    "                strategies.append(value.text)\n",
    "            grant_dict['strategies'] = strategies\n",
    "        except Exception:\n",
    "            grant['strategies'] = \"\"\n",
    "        all_pages.append(grant_dict)\n",
    "\n",
    "        driver.back()\n",
    "        driver.implicitly_wait(2)\n",
    "\n",
    "    time.sleep(5)"
   ]
  },
  {
   "cell_type": "code",
   "execution_count": null,
   "metadata": {},
   "outputs": [],
   "source": [
    "len(all_pages)"
   ]
  },
  {
   "cell_type": "code",
   "execution_count": 76,
   "metadata": {},
   "outputs": [],
   "source": [
    "with open(\"hewlettdata.json\", \"a\") as file:\n",
    "    json.dump(all_pages, file, indent=4)"
   ]
  }
 ],
 "metadata": {
  "kernelspec": {
   "display_name": "scrap",
   "language": "python",
   "name": "python3"
  },
  "language_info": {
   "codemirror_mode": {
    "name": "ipython",
    "version": 3
   },
   "file_extension": ".py",
   "mimetype": "text/x-python",
   "name": "python",
   "nbconvert_exporter": "python",
   "pygments_lexer": "ipython3",
   "version": "3.10.12"
  }
 },
 "nbformat": 4,
 "nbformat_minor": 2
}
