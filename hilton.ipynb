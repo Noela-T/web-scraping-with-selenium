{
 "cells": [
  {
   "cell_type": "code",
   "execution_count": 50,
   "metadata": {},
   "outputs": [],
   "source": [
    "# import libraries\n",
    "from selenium import webdriver\n",
    "from selenium.webdriver.chrome.service import Service\n",
    "from selenium.webdriver.common.by import By\n",
    "from webdriver_manager.chrome import ChromeDriverManager\n",
    "from selenium.webdriver.common.keys import Keys\n",
    "from selenium.webdriver.common.action_chains import ActionChains\n",
    "from selenium.webdriver.support.ui import WebDriverWait\n",
    "from selenium.webdriver.support import expected_conditions as EC\n",
    "import json\n",
    "import time"
   ]
  },
  {
   "cell_type": "code",
   "execution_count": 61,
   "metadata": {},
   "outputs": [],
   "source": [
    "driver = webdriver.Chrome(service=Service(ChromeDriverManager().install()))"
   ]
  },
  {
   "cell_type": "code",
   "execution_count": null,
   "metadata": {},
   "outputs": [],
   "source": [
    "for page_number in range(1,64):\n",
    "    url = \"https://www.hiltonfoundation.org/grants/\" + str(page_number) + \"?area_served=africa\"\n",
    "    print (url)"
   ]
  },
  {
   "cell_type": "code",
   "execution_count": 62,
   "metadata": {},
   "outputs": [],
   "source": [
    "# Define the URL\n",
    "# TO-DO: Automate to get the list from all the 144 pages of the website\n",
    "#   - Figure out how to add delay between scraps to avoid being blocked by the site.\n",
    "grants_list = []\n",
    "for page_number in range(59,64):\n",
    "    url = \"https://www.hiltonfoundation.org/grants/\" + str(page_number) + \"?area_served=africa\"\n",
    "\n",
    "    # load the web page\n",
    "    driver.get(url)\n",
    "\n",
    "    # set maximum time to load the web page in seconds\n",
    "    driver.implicitly_wait(10)\n",
    "    grants = driver.find_element(By.CLASS_NAME, \"GrantsList\").find_element(By.CLASS_NAME, \"GrantsList-list\").find_elements(By.CLASS_NAME, \"GrantsList-item\")\n",
    "\n",
    "    for grant in grants:\n",
    "        grant_dict = {}\n",
    "        try:\n",
    "            grant_dict['grant_id'] = grant.get_attribute(\"data-legacy-id\")\n",
    "        except Exception:\n",
    "            grant_dict['grant_id'] = \"\"\n",
    "        try:\n",
    "            grant_dict['grantee_name'] = grant.find_element(By.CLASS_NAME, \"GrantsList-grantee-name\").text\n",
    "        except Exception:\n",
    "            grant_dict['grantee_name'] = \"\"\n",
    "        try:\n",
    "            grant_dict['grantee_website'] = grant.find_element(By.CLASS_NAME, \"GrantsList-website\").get_attribute('href')\n",
    "        except Exception:\n",
    "            grant_dict['grantee_website'] = \"\"\n",
    "        try:\n",
    "            grant_dict['grant_amount'] = grant.find_element(By.CLASS_NAME, \"GrantsList-grant-amount\").text\n",
    "        except Exception:\n",
    "            grant_dict['grant_amount'] = \"\"\n",
    "        try:\n",
    "            grant_dict['grant_description'] = grant.find_element(By.CLASS_NAME, \"GrantsList-project-description\").text\n",
    "        except Exception:\n",
    "            grant_dict['grant_description'] = \"\"\n",
    "        try:\n",
    "            grant_dict['grant_area_served'] = grant.find_element(By.CLASS_NAME, \"GrantsList-area-served\").text\n",
    "        except Exception:\n",
    "            grant_dict['grant_area_served'] = \"\"\n",
    "        try:\n",
    "            grant_dict['grant_awarded_date'] = grant.find_element(By.CLASS_NAME, \"GrantsList-project-start-date\").text\n",
    "        except Exception:\n",
    "            grant_dict['grant_awarded_date'] = \"\"\n",
    "        try:\n",
    "            grant_dict['grant_program'] = grant.find_element(By.CLASS_NAME,\"GrantsList-related-program\").text\n",
    "        except Exception:\n",
    "            grant_dict['grant_program'] = \"\"\n",
    "        grants_list.append(grant_dict)\n",
    "    \n",
    "    time.sleep(10)\n",
    "\n"
   ]
  },
  {
   "cell_type": "code",
   "execution_count": 64,
   "metadata": {},
   "outputs": [],
   "source": [
    "with open(\"hiltondata.json\", \"a\") as file:\n",
    "    json.dump(grants_list, file, indent=4)"
   ]
  }
 ],
 "metadata": {
  "kernelspec": {
   "display_name": "scrap",
   "language": "python",
   "name": "python3"
  },
  "language_info": {
   "codemirror_mode": {
    "name": "ipython",
    "version": 3
   },
   "file_extension": ".py",
   "mimetype": "text/x-python",
   "name": "python",
   "nbconvert_exporter": "python",
   "pygments_lexer": "ipython3",
   "version": "3.10.12"
  }
 },
 "nbformat": 4,
 "nbformat_minor": 2
}
